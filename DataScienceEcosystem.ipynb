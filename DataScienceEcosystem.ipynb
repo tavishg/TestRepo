{
  "metadata": {
    "kernelspec": {
      "name": "python",
      "display_name": "Python (Pyodide)",
      "language": "python"
    },
    "language_info": {
      "codemirror_mode": {
        "name": "python",
        "version": 3
      },
      "file_extension": ".py",
      "mimetype": "text/x-python",
      "name": "python",
      "nbconvert_exporter": "python",
      "pygments_lexer": "ipython3",
      "version": "3.8"
    }
  },
  "nbformat_minor": 5,
  "nbformat": 4,
  "cells": [
    {
      "id": "8036226f-0a76-4f34-8f67-87425cc5b8b4",
      "cell_type": "markdown",
      "source": "# Data Science Tool and Ecosystem",
      "metadata": {}
    },
    {
      "id": "2ccb0e6c-6edd-4f7c-9924-0fab847ce7e6",
      "cell_type": "markdown",
      "source": "In this notebook, Data Science Tools and Ecosystem are summarized.",
      "metadata": {}
    },
    {
      "id": "9b6e6202-7591-4912-9cab-e9ec0e1b1295",
      "cell_type": "markdown",
      "source": "**Objectives:**\n- List various programming languages used in Data Science\n- List programming environments used for Data Science\n- Learn practical application of Data Science and Tools used\n- Learn what skills are important for a successful Career in Data Science",
      "metadata": {}
    },
    {
      "id": "94c4c8af-b385-4b96-a806-4b07dd767132",
      "cell_type": "markdown",
      "source": "Some of the popular languages Data Scientists use are:\n\n1. R\n2. Python\n3. Scala\n4. C\n5. C++",
      "metadata": {}
    },
    {
      "id": "ba88f800-2a76-4d5b-8f74-7afedd671cbc",
      "cell_type": "markdown",
      "source": "Some of the popular libraries Data Scientists use include:\n\n1. TensorFlow\n2. Pandas\n3. Matplotlib\n4. NumPy",
      "metadata": {}
    },
    {
      "id": "c7accb11-6be5-4434-887d-83713c0e42a2",
      "cell_type": "markdown",
      "source": "|Data Science Tools|\n|----------------|\n|Jupyter Notebooks|\n|JupyterLite|\n|Anaconda|",
      "metadata": {}
    },
    {
      "id": "a385e026-41ea-42c7-8ceb-bdccd30af1ef",
      "cell_type": "markdown",
      "source": "### Below are a few examples of evaluating arithmetic expressions in Python",
      "metadata": {}
    },
    {
      "id": "17914815-50c5-4f35-921a-6f33dca62584",
      "cell_type": "code",
      "source": "#This is a example of a simple arithmetic expression to multiply then add the integers.\n(3*4)+5",
      "metadata": {
        "trusted": true
      },
      "outputs": [
        {
          "execution_count": 3,
          "output_type": "execute_result",
          "data": {
            "text/plain": "17"
          },
          "metadata": {}
        }
      ],
      "execution_count": 3
    },
    {
      "id": "64256805-ba3d-45d9-898a-190ec63475a3",
      "cell_type": "code",
      "source": "#This will convert 200 minutes to hours by dividing by 60\n(200/60)",
      "metadata": {
        "trusted": true
      },
      "outputs": [
        {
          "execution_count": 6,
          "output_type": "execute_result",
          "data": {
            "text/plain": "3.3333333333333335"
          },
          "metadata": {}
        }
      ],
      "execution_count": 6
    },
    {
      "id": "b7955c7b-a66d-4b97-a96f-23c4ac5e7b3d",
      "cell_type": "markdown",
      "source": "## Author",
      "metadata": {}
    }
  ]
}